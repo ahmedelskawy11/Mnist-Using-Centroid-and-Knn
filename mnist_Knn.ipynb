{
 "cells": [
  {
   "cell_type": "markdown",
   "metadata": {},
   "source": [
    "## Import The Libraries"
   ]
  },
  {
   "cell_type": "code",
   "execution_count": 1,
   "metadata": {},
   "outputs": [],
   "source": [
    "import tensorflow as tf\n",
    "import tensorflow_datasets as tfds\n",
    "import numpy as np\n",
    "from matplotlib import pyplot as plt\n",
    "from sklearn.neighbors import KNeighborsClassifier\n",
    "from sklearn.metrics import accuracy_score"
   ]
  },
  {
   "cell_type": "code",
   "execution_count": 2,
   "metadata": {
    "scrolled": true
   },
   "outputs": [
    {
     "name": "stdout",
     "output_type": "stream",
     "text": [
      "2.4.1\n"
     ]
    }
   ],
   "source": [
    "print(tf.__version__)"
   ]
  },
  {
   "cell_type": "markdown",
   "metadata": {},
   "source": [
    "### Creating Our Train and Test Arrays  "
   ]
  },
  {
   "cell_type": "code",
   "execution_count": 3,
   "metadata": {},
   "outputs": [],
   "source": [
    "mnist = tf.keras.datasets.mnist"
   ]
  },
  {
   "cell_type": "code",
   "execution_count": 4,
   "metadata": {},
   "outputs": [],
   "source": [
    "(train_images, train_labels), (test_images, test_labels) = mnist.load_data()\n"
   ]
  },
  {
   "cell_type": "code",
   "execution_count": 5,
   "metadata": {},
   "outputs": [
    {
     "name": "stdout",
     "output_type": "stream",
     "text": [
      "Training Data Shape is (60000, 28, 28) ,  Its Type Is <class 'numpy.ndarray'> ,\n",
      "Test Data Shape is (10000, 28, 28) , Its Type is <class 'numpy.ndarray'> \n"
     ]
    }
   ],
   "source": [
    "print(\n",
    "    \"Training Data Shape is {} ,  Its Type Is {} ,\\nTest Data Shape is {} , Its Type is {} \".format(\n",
    "        train_images.shape , type(train_images) , test_images.shape , type(test_images)\n",
    "    )\n",
    ")"
   ]
  },
  {
   "cell_type": "markdown",
   "metadata": {},
   "source": [
    "## Plotting Handwritten  Numbers From This DataSet"
   ]
  },
  {
   "cell_type": "code",
   "execution_count": 6,
   "metadata": {},
   "outputs": [],
   "source": [
    "def display_img(mnist_index):\n",
    "    \"\"\"\n",
    "        this function takes the mnist image index and plotting it   \n",
    "    \"\"\"\n",
    "    image = mnist_index\n",
    "    image = np.array(image, dtype='float')\n",
    "    pixels = image.reshape((28, 28))\n",
    "    plt.imshow(pixels, cmap='gray')\n",
    "    plt.show()\n",
    "\n",
    "    "
   ]
  },
  {
   "cell_type": "code",
   "execution_count": 7,
   "metadata": {},
   "outputs": [
    {
     "data": {
      "image/png": "[encoded data removed]",
      "text/plain": [
       "<Figure size 432x288 with 1 Axes>"
      ]
     },
     "metadata": {
      "needs_background": "light"
     },
     "output_type": "display_data"
    }
   ],
   "source": [
    "display_img(train_images[10])"
   ]
  },
  {
   "cell_type": "code",
   "execution_count": 8,
   "metadata": {
    "scrolled": true
   },
   "outputs": [
    {
     "data": {
      "text/plain": [
       "3"
      ]
     },
     "execution_count": 8,
     "metadata": {},
     "output_type": "execute_result"
    }
   ],
   "source": [
    "train_labels[10]"
   ]
  },
  {
   "cell_type": "code",
   "execution_count": 9,
   "metadata": {
    "scrolled": false
   },
   "outputs": [
    {
     "data": {
      "image/png": "[encoded data removed]",
      "text/plain": [
       "<Figure size 432x288 with 1 Axes>"
      ]
     },
     "metadata": {
      "needs_background": "light"
     },
     "output_type": "display_data"
    }
   ],
   "source": [
    "display_img(test_images[3])"
   ]
  },
  {
   "cell_type": "code",
   "execution_count": 10,
   "metadata": {
    "scrolled": true
   },
   "outputs": [
    {
     "data": {
      "text/plain": [
       "0"
      ]
     },
     "execution_count": 10,
     "metadata": {},
     "output_type": "execute_result"
    }
   ],
   "source": [
    "test_labels[3]"
   ]
  },
  {
   "cell_type": "markdown",
   "metadata": {},
   "source": [
    "## ReShaping Image To Small Images"
   ]
  },
  {
   "cell_type": "code",
   "execution_count": 11,
   "metadata": {},
   "outputs": [],
   "source": [
    "def imaged_grid(img , row , col ):\n",
    "    \"\"\"\n",
    "        return same input but divided in nGrid Images  \n",
    "        each image with dimensions row * col\n",
    "    \"\"\"\n",
    "    x , y = img.shape\n",
    "\n",
    "    assert x % row == 0, \"{} rows is not evenly divisble by {}\".format(x, row)\n",
    "    assert y % col == 0, \"{} cols is not evenly divisble by {}\".format(y, col)\n",
    "    \n",
    "    return (img.reshape ( x //row, row, -1, col)\n",
    "               .swapaxes(1,2)\n",
    "               .reshape(-1, row, col))\n",
    "    \n",
    "    \n",
    "    \n",
    "    "
   ]
  },
  {
   "cell_type": "code",
   "execution_count": 12,
   "metadata": {},
   "outputs": [
    {
     "name": "stdout",
     "output_type": "stream",
     "text": [
      "(16, 7, 7)\n"
     ]
    },
    {
     "data": {
      "text/plain": [
       "array([[[  0,   0,   0,   0,   0,   0,   0],\n",
       "        [  0,   0,   0,   0,   0,   0,   0],\n",
       "        [  0,   0,   0,   0,   0,   0,   0],\n",
       "        [  0,   0,   0,   0,   0,   0,   0],\n",
       "        [  0,   0,   0,   0,   0,   0,   0],\n",
       "        [  0,   0,   0,   0,   0,   0,   0],\n",
       "        [  0,   0,   0,   0,   0,   0,   0]],\n",
       "\n",
       "       [[  0,   0,   0,   0,   0,   0,   0],\n",
       "        [  0,   0,   0,   0,   0,   0,   0],\n",
       "        [  0,   0,   0,   0,   0,   0,   0],\n",
       "        [  0,   0,   0,   0,   0,   0,   0],\n",
       "        [  0,   0,   0,   0,   0,   0,   0],\n",
       "        [  0,   0,   0,   0,   0,   0,   0],\n",
       "        [  0,   0,   0,   0,   0,   0,   0]],\n",
       "\n",
       "       [[  0,   0,   0,   0,   0,   0,   0],\n",
       "        [  0,   0,   0,   0,   0,   0,   0],\n",
       "        [  0,   0,   0,   0,   0,   0,   0],\n",
       "        [  0,   0,   0,   0,   0,   0,   0],\n",
       "        [  0,   0,  38, 254, 109,   0,   0],\n",
       "        [  0,   0,  87, 252,  82,   0,   0],\n",
       "        [  0,   0, 135, 241,   0,   0,   0]],\n",
       "\n",
       "       [[  0,   0,   0,   0,   0,   0,   0],\n",
       "        [  0,   0,   0,   0,   0,   0,   0],\n",
       "        [  0,   0,   0,   0,   0,   0,   0],\n",
       "        [  0,   0,   0,   0,   0,   0,   0],\n",
       "        [  0,   0,   0,   0,   0,   0,   0],\n",
       "        [  0,   0,   0,   0,   0,   0,   0],\n",
       "        [  0,   0,   0,   0,   0,   0,   0]],\n",
       "\n",
       "       [[  0,   0,   0,   0,   0,   0,   0],\n",
       "        [  0,   0,   0,   0,   0,   0,   0],\n",
       "        [  0,   0,   0,   0,   0,   0,   0],\n",
       "        [  0,   0,   0,   0,   0,   0,   0],\n",
       "        [  0,   0,   0,   0,   0,   0,   0],\n",
       "        [  0,   0,   0,   0,   0,   0,   0],\n",
       "        [  0,   0,   0,   0,   0,   0,   0]],\n",
       "\n",
       "       [[  0,   0,   0,   0,   0,   0,   0],\n",
       "        [  0,   0,   0,   0,   0,   0,   0],\n",
       "        [  0,   0,   0,   0,   0,   0,   0],\n",
       "        [  0,   0,   0,   0,   0,   0,   0],\n",
       "        [  0,   0,   0,   0,   0,   0,   0],\n",
       "        [  0,   0,   0,   0,   0,   0,   0],\n",
       "        [  0,   0,   0,   0,   0,   0,  57]],\n",
       "\n",
       "       [[  0,  45, 244, 150,   0,   0,   0],\n",
       "        [  0,  84, 254,  63,   0,   0,   0],\n",
       "        [  0, 202, 223,  11,   0,   0,   0],\n",
       "        [ 32, 254, 216,   0,   0,   0,   0],\n",
       "        [ 95, 254, 195,   0,   0,   0,   0],\n",
       "        [140, 254,  77,   0,   0,   0,   0],\n",
       "        [237, 205,   8,   0,   0,   0,   0]],\n",
       "\n",
       "       [[  0,   0,   0,   0,   0,   0,   0],\n",
       "        [  0,   0,   0,   0,   0,   0,   0],\n",
       "        [  0,   0,   0,   0,   0,   0,   0],\n",
       "        [  0,   0,   0,   0,   0,   0,   0],\n",
       "        [  0,   0,   0,   0,   0,   0,   0],\n",
       "        [  0,   0,   0,   0,   0,   0,   0],\n",
       "        [  0,   0,   0,   0,   0,   0,   0]],\n",
       "\n",
       "       [[  0,   0,   0,   0,   0,   0,   0],\n",
       "        [  0,   0,   0,   0,   0,   0,   0],\n",
       "        [  0,   0,   0,   0,   0,   0,   0],\n",
       "        [  0,   0,   0,   0,   0,   0,   0],\n",
       "        [  0,   0,   0,   0,   0,   0,   0],\n",
       "        [  0,   0,   0,   0,   0,   0,   0],\n",
       "        [  0,   0,   0,   0,   0,   0,   0]],\n",
       "\n",
       "       [[  0,   0,   0,   0,   0,   0, 124],\n",
       "        [  0,   0,   0,   0,   0,   0, 171],\n",
       "        [  0,   0,   0,   0,   0,  24, 232],\n",
       "        [  0,   0,   0,   0,   0, 120, 254],\n",
       "        [  0,   0,   0,   0,   0, 151, 254],\n",
       "        [  0,   0,   0,   0,   0, 228, 254],\n",
       "        [  0,   0,   0,   0,  61, 251, 254]],\n",
       "\n",
       "       [[255, 165,   0,   0,   0,   0,   0],\n",
       "        [254,  81,   0,   0,   0,   0,   0],\n",
       "        [215,   0,   0,   0,   0,   0,   0],\n",
       "        [159,   0,   0,   0,   0,   0,   0],\n",
       "        [142,   0,   0,   0,   0,   0,   0],\n",
       "        [ 66,   0,   0,   0,   0,   0,   0],\n",
       "        [ 66,   0,   0,   0,   0,   0,   0]],\n",
       "\n",
       "       [[  0,   0,   0,   0,   0,   0,   0],\n",
       "        [  0,   0,   0,   0,   0,   0,   0],\n",
       "        [  0,   0,   0,   0,   0,   0,   0],\n",
       "        [  0,   0,   0,   0,   0,   0,   0],\n",
       "        [  0,   0,   0,   0,   0,   0,   0],\n",
       "        [  0,   0,   0,   0,   0,   0,   0],\n",
       "        [  0,   0,   0,   0,   0,   0,   0]],\n",
       "\n",
       "       [[  0,   0,   0,   0,   0,   0,   0],\n",
       "        [  0,   0,   0,   0,   0,   0,   0],\n",
       "        [  0,   0,   0,   0,   0,   0,   0],\n",
       "        [  0,   0,   0,   0,   0,   0,   0],\n",
       "        [  0,   0,   0,   0,   0,   0,   0],\n",
       "        [  0,   0,   0,   0,   0,   0,   0],\n",
       "        [  0,   0,   0,   0,   0,   0,   0]],\n",
       "\n",
       "       [[  0,   0,   0,   0, 141, 254, 205],\n",
       "        [  0,   0,   0,  10, 215, 254, 121],\n",
       "        [  0,   0,   0,   5, 198, 176,  10],\n",
       "        [  0,   0,   0,   0,   0,   0,   0],\n",
       "        [  0,   0,   0,   0,   0,   0,   0],\n",
       "        [  0,   0,   0,   0,   0,   0,   0],\n",
       "        [  0,   0,   0,   0,   0,   0,   0]],\n",
       "\n",
       "       [[  3,   0,   0,   0,   0,   0,   0],\n",
       "        [  0,   0,   0,   0,   0,   0,   0],\n",
       "        [  0,   0,   0,   0,   0,   0,   0],\n",
       "        [  0,   0,   0,   0,   0,   0,   0],\n",
       "        [  0,   0,   0,   0,   0,   0,   0],\n",
       "        [  0,   0,   0,   0,   0,   0,   0],\n",
       "        [  0,   0,   0,   0,   0,   0,   0]],\n",
       "\n",
       "       [[  0,   0,   0,   0,   0,   0,   0],\n",
       "        [  0,   0,   0,   0,   0,   0,   0],\n",
       "        [  0,   0,   0,   0,   0,   0,   0],\n",
       "        [  0,   0,   0,   0,   0,   0,   0],\n",
       "        [  0,   0,   0,   0,   0,   0,   0],\n",
       "        [  0,   0,   0,   0,   0,   0,   0],\n",
       "        [  0,   0,   0,   0,   0,   0,   0]]], dtype=uint8)"
      ]
     },
     "execution_count": 12,
     "metadata": {},
     "output_type": "execute_result"
    }
   ],
   "source": [
    "print(imaged_grid(test_images[2] , 7 , 7 ).shape)\n",
    "imaged_grid(test_images[2] , 7 , 7 )"
   ]
  },
  {
   "cell_type": "markdown",
   "metadata": {},
   "source": [
    "## Feature Extraction \"Centroid \""
   ]
  },
  {
   "cell_type": "code",
   "execution_count": 26,
   "metadata": {},
   "outputs": [],
   "source": [
    "iteration = 0\n",
    "\n",
    "def get_centroid(img):\n",
    "    \n",
    "    \"\"\" \n",
    "        return feature vector for current image \n",
    "    \n",
    "    \"\"\"\n",
    "    \n",
    "    feature_vector = []\n",
    " \n",
    "    for grid in imaged_grid(img , 7 , 7 ) :\n",
    "        \n",
    "        Xc = 0 \n",
    "        Yc = 0 \n",
    "        sum = 0\n",
    "    \n",
    "        for index, x in np.ndenumerate(grid):\n",
    "          sum+= x \n",
    "          Xc += x * index[0]\n",
    "          Yc += x * index[1]\n",
    "        \n",
    "        if sum != 0 :\n",
    "            feature_vector.append( Xc/ sum )\n",
    "            feature_vector.append(Yc/ sum )\n",
    "        else :\n",
    "             feature_vector.append(0)\n",
    "             feature_vector.append(0)\n",
    "        \n",
    "    \n",
    "    return np.array(feature_vector)"
   ]
  },
  {
   "cell_type": "markdown",
   "metadata": {},
   "source": [
    "### Creating Test , Train Features "
   ]
  },
  {
   "cell_type": "code",
   "execution_count": 14,
   "metadata": {
    "scrolled": true
   },
   "outputs": [
    {
     "name": "stdout",
     "output_type": "stream",
     "text": [
      "Feature Extraction From Training Data\n",
      "Extraction is Done\n"
     ]
    }
   ],
   "source": [
    "print(\"Feature Extraction From Training Data\")\n",
    "train_features = [get_centroid(img)  for img in train_images  ]\n",
    "print(\"Extraction is Done\")"
   ]
  },
  {
   "cell_type": "code",
   "execution_count": 16,
   "metadata": {},
   "outputs": [],
   "source": [
    "train_features = np.array(train_features)"
   ]
  },
  {
   "cell_type": "code",
   "execution_count": 17,
   "metadata": {},
   "outputs": [
    {
     "data": {
      "text/plain": [
       "(60000, 32)"
      ]
     },
     "execution_count": 17,
     "metadata": {},
     "output_type": "execute_result"
    }
   ],
   "source": [
    "train_features.shape"
   ]
  },
  {
   "cell_type": "code",
   "execution_count": 18,
   "metadata": {
    "scrolled": true
   },
   "outputs": [
    {
     "data": {
      "text/plain": [
       "array([[0.        , 0.        , 5.97229551, 4.6055409 , 5.71422432,\n",
       "        3.13708638, 5.44336283, 0.72920354, 0.        , 0.        ,\n",
       "        1.92178018, 4.10367498, 1.58336198, 1.75730492, 0.        ,\n",
       "        0.41052632, 0.        , 0.        , 5.23522727, 5.36363636,\n",
       "        3.24870541, 2.6051496 , 0.        , 0.        , 2.5606469 ,\n",
       "        5.27493261, 1.3818144 , 2.84789846, 0.14285714, 0.60192616,\n",
       "        0.        , 0.        ],\n",
       "       [0.        , 0.        , 6.        , 6.        , 5.24278291,\n",
       "        2.80398383, 6.        , 0.        , 0.        , 0.        ,\n",
       "        3.27941463, 3.83317073, 1.65757906, 3.3998546 , 3.86559922,\n",
       "        0.29354682, 3.54780876, 6.        , 3.16214896, 1.04420024,\n",
       "        3.85209254, 3.71952171, 0.90250447, 0.31842576, 0.24778761,\n",
       "        6.        , 0.86265329, 3.02831661, 0.20055325, 0.63070539,\n",
       "        0.        , 0.        ]])"
      ]
     },
     "execution_count": 18,
     "metadata": {},
     "output_type": "execute_result"
    }
   ],
   "source": [
    "train_features[:2]"
   ]
  },
  {
   "cell_type": "code",
   "execution_count": 19,
   "metadata": {},
   "outputs": [
    {
     "name": "stdout",
     "output_type": "stream",
     "text": [
      "Feature Extraction From Test Data\n",
      "Extraction is Done\n"
     ]
    }
   ],
   "source": [
    "print(\"Feature Extraction From Test Data\")\n",
    "test_features = [get_centroid(img)  for img in test_images  ]\n",
    "print(\"Extraction is Done\")"
   ]
  },
  {
   "cell_type": "code",
   "execution_count": 20,
   "metadata": {},
   "outputs": [],
   "source": [
    "test_features = np.array(test_features)"
   ]
  },
  {
   "cell_type": "code",
   "execution_count": 21,
   "metadata": {},
   "outputs": [
    {
     "data": {
      "text/plain": [
       "(10000, 32)"
      ]
     },
     "execution_count": 21,
     "metadata": {},
     "output_type": "execute_result"
    }
   ],
   "source": [
    "test_features.shape"
   ]
  },
  {
   "cell_type": "code",
   "execution_count": 22,
   "metadata": {},
   "outputs": [
    {
     "data": {
      "text/plain": [
       "array([[0.        , 0.        , 0.        , 0.        , 0.        ,\n",
       "        0.        , 0.        , 0.        , 0.95442359, 6.        ,\n",
       "        1.21994302, 2.92022792, 2.86991727, 3.67136068, 2.28481013,\n",
       "        0.        , 0.        , 0.        , 5.91555556, 5.98666667,\n",
       "        2.97017501, 2.05669214, 0.        , 0.        , 0.        ,\n",
       "        0.        , 2.86841394, 4.92785734, 0.90693739, 0.1319797 ,\n",
       "        0.        , 0.        ],\n",
       "       [0.        , 0.        , 4.56700508, 3.56903553, 4.56971064,\n",
       "        1.26719278, 0.        , 0.        , 0.        , 0.        ,\n",
       "        3.72274798, 4.43778479, 1.95129284, 0.9305472 , 0.        ,\n",
       "        0.        , 0.        , 0.        , 3.31512801, 3.18355314,\n",
       "        5.9430019 , 2.99873338, 5.68307087, 2.30462598, 0.        ,\n",
       "        0.        , 0.31214149, 3.79636711, 0.4046496 , 2.65026954,\n",
       "        0.        , 1.77044025]])"
      ]
     },
     "execution_count": 22,
     "metadata": {},
     "output_type": "execute_result"
    }
   ],
   "source": [
    "test_features[:2]"
   ]
  },
  {
   "cell_type": "markdown",
   "metadata": {},
   "source": [
    "## Classification Algorithms \"KNN\" "
   ]
  },
  {
   "cell_type": "code",
   "execution_count": 23,
   "metadata": {},
   "outputs": [],
   "source": [
    "def KNN(train_features, test_features, train_labels):\n",
    "    \"\"\"\n",
    "        return predicted lablels to be compared with the test label\n",
    "    \"\"\"\n",
    "    knn = KNeighborsClassifier(10, metric='euclidean')\n",
    "    knn.fit(train_features, train_labels)  # fit train data\n",
    "    prediction = knn.predict(test_features)  # test data\n",
    "    return prediction\n",
    "\n"
   ]
  },
  {
   "cell_type": "code",
   "execution_count": 25,
   "metadata": {
    "scrolled": true
   },
   "outputs": [],
   "source": [
    "Knn_prediction = KNN(train_features, test_features , train_labels )"
   ]
  },
  {
   "cell_type": "code",
   "execution_count": 27,
   "metadata": {},
   "outputs": [
    {
     "name": "stdout",
     "output_type": "stream",
     "text": [
      "Accuracy Score = 90.79 %\n"
     ]
    }
   ],
   "source": [
    "print(\"Accuracy Score =\", accuracy_score(test_labels, Knn_prediction) * 100, \"%\")"
   ]
  }
 ],
 "metadata": {
  "kernelspec": {
   "display_name": "Python 3",
   "language": "python",
   "name": "python3"
  },
  "language_info": {
   "codemirror_mode": {
    "name": "ipython",
    "version": 3
   },
   "file_extension": ".py",
   "mimetype": "text/x-python",
   "name": "python",
   "nbconvert_exporter": "python",
   "pygments_lexer": "ipython3",
   "version": "3.8.3"
  }
 },
 "nbformat": 4,
 "nbformat_minor": 4
}
